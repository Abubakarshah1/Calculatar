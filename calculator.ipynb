{
 "cells": [
  {
   "cell_type": "code",
   "execution_count": 1,
   "metadata": {},
   "outputs": [
    {
     "name": "stdout",
     "output_type": "stream",
     "text": [
      "The Result is: 25.0\n",
      "Select Operation\n",
      "1. Add\n",
      "2. Subtract\n",
      "3. Multiply\n",
      "4. Divide\n"
     ]
    }
   ],
   "source": [
    "# Defining functions\n",
    "def add(a , b):\n",
    "    return a + b\n",
    "\n",
    "def subtract(a , b):\n",
    "    return a - b\n",
    "\n",
    "def multiply(a , b):\n",
    "    return a * b\n",
    "\n",
    "def divide(a , b):\n",
    "    if b == 0:\n",
    "        return \"Error! divide by zero.\"\n",
    "    \n",
    "    else:\n",
    "        return a / b \n",
    "    \n",
    "\n",
    "def calculator():\n",
    "    print(\"Select Operation\")\n",
    "    print(\"1. Add\")\n",
    "    print(\"2. Subtract\")\n",
    "    print(\"3. Multiply\")\n",
    "    print(\"4. Divide\")\n",
    "\n",
    "# taking input from user.\n",
    "choice = input(\"Enter Choice (1/2/3/4): \")\n",
    "\n",
    "if choice in ['1','2','3','4']:\n",
    "    num1 = float(input(\"Enter First Number: \"))\n",
    "    num2 = float(input(\"Enter Second Number: \"))\n",
    "\n",
    "    if choice == '1':\n",
    "        print(f\"The Result is: {add(num1 , num2)}\")\n",
    "    elif choice == '2':\n",
    "        print(f\"The Result is: {subtract(num1 , num2)}\")\n",
    "    elif choice == '3':\n",
    "        print(f\"The Result is: {multiply(num1 , num2)}\")\n",
    "    elif choice == '4':\n",
    "        print(f\"The Result is: {divide(num1 , num2)}\")\n",
    "else:\n",
    "    print(\"Invalid Input! Please Select a valid Operation. \")\n",
    "\n",
    "\n",
    "calculator()"
   ]
  }
 ],
 "metadata": {
  "kernelspec": {
   "display_name": "Python 3",
   "language": "python",
   "name": "python3"
  },
  "language_info": {
   "codemirror_mode": {
    "name": "ipython",
    "version": 3
   },
   "file_extension": ".py",
   "mimetype": "text/x-python",
   "name": "python",
   "nbconvert_exporter": "python",
   "pygments_lexer": "ipython3",
   "version": "3.12.5"
  }
 },
 "nbformat": 4,
 "nbformat_minor": 2
}
